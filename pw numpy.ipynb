{
 "cells": [
  {
   "cell_type": "code",
   "execution_count": 1,
   "id": "862fcd48",
   "metadata": {},
   "outputs": [],
   "source": [
    "import numpy as np"
   ]
  },
  {
   "cell_type": "code",
   "execution_count": 2,
   "id": "958507a4",
   "metadata": {},
   "outputs": [],
   "source": [
    "l=[1,2,3,4]"
   ]
  },
  {
   "cell_type": "code",
   "execution_count": 17,
   "id": "332e00b6",
   "metadata": {},
   "outputs": [],
   "source": [
    "#array is superclass in numpy and matrix is sub class of array"
   ]
  },
  {
   "cell_type": "code",
   "execution_count": 18,
   "id": "b2dd9986",
   "metadata": {},
   "outputs": [],
   "source": [
    "ar=np.array(l)"
   ]
  },
  {
   "cell_type": "code",
   "execution_count": 19,
   "id": "dcebc688",
   "metadata": {},
   "outputs": [
    {
     "data": {
      "text/plain": [
       "array([1, 2, 3, 4])"
      ]
     },
     "execution_count": 19,
     "metadata": {},
     "output_type": "execute_result"
    }
   ],
   "source": [
    "ar"
   ]
  },
  {
   "cell_type": "code",
   "execution_count": 20,
   "id": "d4dd9d67",
   "metadata": {},
   "outputs": [
    {
     "data": {
      "text/plain": [
       "numpy.ndarray"
      ]
     },
     "execution_count": 20,
     "metadata": {},
     "output_type": "execute_result"
    }
   ],
   "source": [
    "type(ar)"
   ]
  },
  {
   "cell_type": "code",
   "execution_count": 21,
   "id": "b31a7f23",
   "metadata": {},
   "outputs": [],
   "source": [
    "#nd means n dimansionalarray"
   ]
  },
  {
   "cell_type": "code",
   "execution_count": 22,
   "id": "eb0478a3",
   "metadata": {},
   "outputs": [
    {
     "data": {
      "text/plain": [
       "array([[1, 2],\n",
       "       [4, 5]])"
      ]
     },
     "execution_count": 22,
     "metadata": {},
     "output_type": "execute_result"
    }
   ],
   "source": [
    "np.array([[1,2],[4,5]])"
   ]
  },
  {
   "cell_type": "code",
   "execution_count": 23,
   "id": "488a8f81",
   "metadata": {},
   "outputs": [
    {
     "data": {
      "text/plain": [
       "array([1, 2, 3, 4])"
      ]
     },
     "execution_count": 23,
     "metadata": {},
     "output_type": "execute_result"
    }
   ],
   "source": [
    "np.asarray([1,2,3,4])"
   ]
  },
  {
   "cell_type": "code",
   "execution_count": 24,
   "id": "e67a9a8a",
   "metadata": {},
   "outputs": [],
   "source": [
    "a=[2,3,4]"
   ]
  },
  {
   "cell_type": "code",
   "execution_count": 25,
   "id": "cd70582c",
   "metadata": {},
   "outputs": [
    {
     "data": {
      "text/plain": [
       "array([2, 3, 4])"
      ]
     },
     "execution_count": 25,
     "metadata": {},
     "output_type": "execute_result"
    }
   ],
   "source": [
    "np.asanyarray(a)"
   ]
  },
  {
   "cell_type": "code",
   "execution_count": 26,
   "id": "63240aa0",
   "metadata": {},
   "outputs": [],
   "source": [
    "#wecan convert list into array by using array,as array,asanyarray"
   ]
  },
  {
   "cell_type": "code",
   "execution_count": 27,
   "id": "959ea25f",
   "metadata": {},
   "outputs": [],
   "source": [
    "b=np.matrix(l)"
   ]
  },
  {
   "cell_type": "code",
   "execution_count": 28,
   "id": "3b7daede",
   "metadata": {},
   "outputs": [
    {
     "data": {
      "text/plain": [
       "matrix([[1, 2, 3, 4]])"
      ]
     },
     "execution_count": 28,
     "metadata": {},
     "output_type": "execute_result"
    }
   ],
   "source": [
    "b"
   ]
  },
  {
   "cell_type": "code",
   "execution_count": 29,
   "id": "b9111b97",
   "metadata": {},
   "outputs": [
    {
     "data": {
      "text/plain": [
       "matrix([[1, 2, 3, 4]])"
      ]
     },
     "execution_count": 29,
     "metadata": {},
     "output_type": "execute_result"
    }
   ],
   "source": [
    "np.asanyarray(b)"
   ]
  },
  {
   "cell_type": "code",
   "execution_count": 30,
   "id": "25c202e0",
   "metadata": {},
   "outputs": [],
   "source": [
    "c=np.array(l)"
   ]
  },
  {
   "cell_type": "code",
   "execution_count": 31,
   "id": "8313bdca",
   "metadata": {},
   "outputs": [
    {
     "data": {
      "text/plain": [
       "array([1, 2, 3, 4])"
      ]
     },
     "execution_count": 31,
     "metadata": {},
     "output_type": "execute_result"
    }
   ],
   "source": [
    "c"
   ]
  },
  {
   "cell_type": "code",
   "execution_count": 32,
   "id": "0a471c83",
   "metadata": {},
   "outputs": [],
   "source": [
    "d=c"
   ]
  },
  {
   "cell_type": "code",
   "execution_count": 33,
   "id": "bc627322",
   "metadata": {},
   "outputs": [
    {
     "data": {
      "text/plain": [
       "array([1, 2, 3, 4])"
      ]
     },
     "execution_count": 33,
     "metadata": {},
     "output_type": "execute_result"
    }
   ],
   "source": [
    "d"
   ]
  },
  {
   "cell_type": "code",
   "execution_count": 34,
   "id": "27c6ccfc",
   "metadata": {},
   "outputs": [
    {
     "data": {
      "text/plain": [
       "array([1, 2, 3, 4])"
      ]
     },
     "execution_count": 34,
     "metadata": {},
     "output_type": "execute_result"
    }
   ],
   "source": [
    "c"
   ]
  },
  {
   "cell_type": "code",
   "execution_count": 36,
   "id": "7941bddf",
   "metadata": {},
   "outputs": [],
   "source": [
    "d[0]=100"
   ]
  },
  {
   "cell_type": "code",
   "execution_count": 37,
   "id": "08697ba8",
   "metadata": {},
   "outputs": [
    {
     "data": {
      "text/plain": [
       "array([100,   2,   3,   4])"
      ]
     },
     "execution_count": 37,
     "metadata": {},
     "output_type": "execute_result"
    }
   ],
   "source": [
    "d"
   ]
  },
  {
   "cell_type": "code",
   "execution_count": 38,
   "id": "083b700f",
   "metadata": {},
   "outputs": [
    {
     "data": {
      "text/plain": [
       "array([100,   2,   3,   4])"
      ]
     },
     "execution_count": 38,
     "metadata": {},
     "output_type": "execute_result"
    }
   ],
   "source": [
    "c"
   ]
  },
  {
   "cell_type": "code",
   "execution_count": 39,
   "id": "2973477a",
   "metadata": {},
   "outputs": [],
   "source": [
    "e=np.copy(c)"
   ]
  },
  {
   "cell_type": "code",
   "execution_count": 40,
   "id": "824d257f",
   "metadata": {},
   "outputs": [
    {
     "data": {
      "text/plain": [
       "array([100,   2,   3,   4])"
      ]
     },
     "execution_count": 40,
     "metadata": {},
     "output_type": "execute_result"
    }
   ],
   "source": [
    "e"
   ]
  },
  {
   "cell_type": "code",
   "execution_count": 41,
   "id": "41cee0df",
   "metadata": {},
   "outputs": [
    {
     "data": {
      "text/plain": [
       "array([100,   2,   3,   4])"
      ]
     },
     "execution_count": 41,
     "metadata": {},
     "output_type": "execute_result"
    }
   ],
   "source": [
    "c"
   ]
  },
  {
   "cell_type": "code",
   "execution_count": 42,
   "id": "13e12f28",
   "metadata": {},
   "outputs": [],
   "source": [
    "c[1]=400"
   ]
  },
  {
   "cell_type": "code",
   "execution_count": 43,
   "id": "307109db",
   "metadata": {},
   "outputs": [
    {
     "data": {
      "text/plain": [
       "array([100, 400,   3,   4])"
      ]
     },
     "execution_count": 43,
     "metadata": {},
     "output_type": "execute_result"
    }
   ],
   "source": [
    "c"
   ]
  },
  {
   "cell_type": "code",
   "execution_count": 44,
   "id": "428ecd78",
   "metadata": {},
   "outputs": [
    {
     "data": {
      "text/plain": [
       "array([100, 400,   3,   4])"
      ]
     },
     "execution_count": 44,
     "metadata": {},
     "output_type": "execute_result"
    }
   ],
   "source": [
    "d"
   ]
  },
  {
   "cell_type": "code",
   "execution_count": 45,
   "id": "78bb496b",
   "metadata": {},
   "outputs": [
    {
     "data": {
      "text/plain": [
       "array([100,   2,   3,   4])"
      ]
     },
     "execution_count": 45,
     "metadata": {},
     "output_type": "execute_result"
    }
   ],
   "source": [
    "e"
   ]
  },
  {
   "cell_type": "code",
   "execution_count": 49,
   "id": "d154f06e",
   "metadata": {},
   "outputs": [
    {
     "data": {
      "text/plain": [
       "array([[ True, False, False],\n",
       "       [False,  True, False],\n",
       "       [False, False,  True]])"
      ]
     },
     "execution_count": 49,
     "metadata": {},
     "output_type": "execute_result"
    }
   ],
   "source": [
    "np.fromfunction(lambda i,j : i==j , (3,3))#work on matrix"
   ]
  },
  {
   "cell_type": "code",
   "execution_count": 50,
   "id": "177a0b76",
   "metadata": {},
   "outputs": [
    {
     "data": {
      "text/plain": [
       "array([[0., 0., 0.],\n",
       "       [0., 1., 2.],\n",
       "       [0., 2., 4.]])"
      ]
     },
     "execution_count": 50,
     "metadata": {},
     "output_type": "execute_result"
    }
   ],
   "source": [
    "np.fromfunction(lambda i,j : i*j , (3,3))"
   ]
  },
  {
   "cell_type": "code",
   "execution_count": 52,
   "id": "228197e4",
   "metadata": {},
   "outputs": [],
   "source": [
    "iterable=(i*i for i in range(5))"
   ]
  },
  {
   "cell_type": "code",
   "execution_count": 54,
   "id": "d83cd3ac",
   "metadata": {},
   "outputs": [
    {
     "data": {
      "text/plain": [
       "array([ 0.,  1.,  4.,  9., 16.])"
      ]
     },
     "execution_count": 54,
     "metadata": {},
     "output_type": "execute_result"
    }
   ],
   "source": [
    "np.fromiter(iterable,float)"
   ]
  },
  {
   "cell_type": "code",
   "execution_count": 56,
   "id": "7422776b",
   "metadata": {},
   "outputs": [
    {
     "data": {
      "text/plain": [
       "array([234., 234.])"
      ]
     },
     "execution_count": 56,
     "metadata": {},
     "output_type": "execute_result"
    }
   ],
   "source": [
    "np.fromstring(\"234 234\",sep=\" \")"
   ]
  },
  {
   "cell_type": "code",
   "execution_count": 57,
   "id": "41feb157",
   "metadata": {},
   "outputs": [],
   "source": [
    "#numpy-datatypes"
   ]
  },
  {
   "cell_type": "code",
   "execution_count": 58,
   "id": "69a02b70",
   "metadata": {},
   "outputs": [],
   "source": [
    "l=[1,2,3,4,5]"
   ]
  },
  {
   "cell_type": "code",
   "execution_count": 59,
   "id": "e02e23fb",
   "metadata": {},
   "outputs": [],
   "source": [
    "ar=np.array(l)"
   ]
  },
  {
   "cell_type": "code",
   "execution_count": 60,
   "id": "fc31c719",
   "metadata": {},
   "outputs": [
    {
     "data": {
      "text/plain": [
       "array([1, 2, 3, 4, 5])"
      ]
     },
     "execution_count": 60,
     "metadata": {},
     "output_type": "execute_result"
    }
   ],
   "source": [
    "ar"
   ]
  },
  {
   "cell_type": "code",
   "execution_count": 62,
   "id": "f408e24d",
   "metadata": {},
   "outputs": [
    {
     "data": {
      "text/plain": [
       "1"
      ]
     },
     "execution_count": 62,
     "metadata": {},
     "output_type": "execute_result"
    }
   ],
   "source": [
    "ar.ndim  #tell no of dimension in ar"
   ]
  },
  {
   "cell_type": "code",
   "execution_count": 63,
   "id": "54b96163",
   "metadata": {},
   "outputs": [],
   "source": [
    "ar2=np.array([[1,2,3,4],[5,6,7,8]])"
   ]
  },
  {
   "cell_type": "code",
   "execution_count": 64,
   "id": "996a36c7",
   "metadata": {},
   "outputs": [
    {
     "data": {
      "text/plain": [
       "array([[1, 2, 3, 4],\n",
       "       [5, 6, 7, 8]])"
      ]
     },
     "execution_count": 64,
     "metadata": {},
     "output_type": "execute_result"
    }
   ],
   "source": [
    "ar2"
   ]
  },
  {
   "cell_type": "code",
   "execution_count": 65,
   "id": "67d07b7a",
   "metadata": {},
   "outputs": [
    {
     "data": {
      "text/plain": [
       "2"
      ]
     },
     "execution_count": 65,
     "metadata": {},
     "output_type": "execute_result"
    }
   ],
   "source": [
    "ar2.ndim"
   ]
  },
  {
   "cell_type": "code",
   "execution_count": 66,
   "id": "afc136e8",
   "metadata": {},
   "outputs": [
    {
     "data": {
      "text/plain": [
       "5"
      ]
     },
     "execution_count": 66,
     "metadata": {},
     "output_type": "execute_result"
    }
   ],
   "source": [
    "ar.size"
   ]
  },
  {
   "cell_type": "code",
   "execution_count": 69,
   "id": "e5c2afec",
   "metadata": {},
   "outputs": [
    {
     "data": {
      "text/plain": [
       "(5,)"
      ]
     },
     "execution_count": 69,
     "metadata": {},
     "output_type": "execute_result"
    }
   ],
   "source": [
    "ar.shape #it rep rows and colmuns"
   ]
  },
  {
   "cell_type": "code",
   "execution_count": 70,
   "id": "6ef0610c",
   "metadata": {},
   "outputs": [
    {
     "data": {
      "text/plain": [
       "(2, 4)"
      ]
     },
     "execution_count": 70,
     "metadata": {},
     "output_type": "execute_result"
    }
   ],
   "source": [
    "ar2.shape"
   ]
  },
  {
   "cell_type": "code",
   "execution_count": 71,
   "id": "cd35279e",
   "metadata": {},
   "outputs": [
    {
     "data": {
      "text/plain": [
       "dtype('int32')"
      ]
     },
     "execution_count": 71,
     "metadata": {},
     "output_type": "execute_result"
    }
   ],
   "source": [
    "ar2.dtype"
   ]
  },
  {
   "cell_type": "code",
   "execution_count": 75,
   "id": "30a260f6",
   "metadata": {},
   "outputs": [],
   "source": [
    "ar22=np.array([(1.5,2,3,4,6),(45,57,9,68,71)])"
   ]
  },
  {
   "cell_type": "code",
   "execution_count": 76,
   "id": "33b2f5e9",
   "metadata": {},
   "outputs": [
    {
     "data": {
      "text/plain": [
       "array([[ 1.5,  2. ,  3. ,  4. ,  6. ],\n",
       "       [45. , 57. ,  9. , 68. , 71. ]])"
      ]
     },
     "execution_count": 76,
     "metadata": {},
     "output_type": "execute_result"
    }
   ],
   "source": [
    "ar22"
   ]
  },
  {
   "cell_type": "code",
   "execution_count": 77,
   "id": "2987e677",
   "metadata": {},
   "outputs": [
    {
     "data": {
      "text/plain": [
       "dtype('float64')"
      ]
     },
     "execution_count": 77,
     "metadata": {},
     "output_type": "execute_result"
    }
   ],
   "source": [
    "ar22.dtype"
   ]
  },
  {
   "cell_type": "code",
   "execution_count": 79,
   "id": "8a95b3a2",
   "metadata": {},
   "outputs": [
    {
     "data": {
      "text/plain": [
       "[0, 1, 2, 3, 4]"
      ]
     },
     "execution_count": 79,
     "metadata": {},
     "output_type": "execute_result"
    }
   ],
   "source": [
    "list(range(5))"
   ]
  },
  {
   "cell_type": "code",
   "execution_count": 80,
   "id": "21abf609",
   "metadata": {},
   "outputs": [],
   "source": [
    "#range take only int values"
   ]
  },
  {
   "cell_type": "code",
   "execution_count": 81,
   "id": "fa5e5dd0",
   "metadata": {},
   "outputs": [
    {
     "data": {
      "text/plain": [
       "array([2.3, 3.3, 4.3, 5.3])"
      ]
     },
     "execution_count": 81,
     "metadata": {},
     "output_type": "execute_result"
    }
   ],
   "source": [
    "np.arange(2.3,5.6)"
   ]
  },
  {
   "cell_type": "code",
   "execution_count": 82,
   "id": "6b426a2a",
   "metadata": {},
   "outputs": [
    {
     "data": {
      "text/plain": [
       "array([3. , 3.3, 3.6, 3.9, 4.2])"
      ]
     },
     "execution_count": 82,
     "metadata": {},
     "output_type": "execute_result"
    }
   ],
   "source": [
    "np.arange(3,4.5,.3)"
   ]
  },
  {
   "cell_type": "code",
   "execution_count": 83,
   "id": "e0c71ca1",
   "metadata": {},
   "outputs": [
    {
     "data": {
      "text/plain": [
       "array([1.        , 1.44444444, 1.88888889, 2.33333333, 2.77777778,\n",
       "       3.22222222, 3.66666667, 4.11111111, 4.55555556, 5.        ])"
      ]
     },
     "execution_count": 83,
     "metadata": {},
     "output_type": "execute_result"
    }
   ],
   "source": [
    "np.linspace(1,5,10)"
   ]
  },
  {
   "cell_type": "code",
   "execution_count": 84,
   "id": "e5968428",
   "metadata": {},
   "outputs": [
    {
     "data": {
      "text/plain": [
       "array([0., 0., 0., 0., 0.])"
      ]
     },
     "execution_count": 84,
     "metadata": {},
     "output_type": "execute_result"
    }
   ],
   "source": [
    "np.zeros(5)"
   ]
  },
  {
   "cell_type": "code",
   "execution_count": 85,
   "id": "2a21a6fc",
   "metadata": {},
   "outputs": [
    {
     "data": {
      "text/plain": [
       "array([[0., 0., 0., 0.],\n",
       "       [0., 0., 0., 0.],\n",
       "       [0., 0., 0., 0.]])"
      ]
     },
     "execution_count": 85,
     "metadata": {},
     "output_type": "execute_result"
    }
   ],
   "source": [
    "np.zeros((3,4))"
   ]
  },
  {
   "cell_type": "code",
   "execution_count": 86,
   "id": "45bf71df",
   "metadata": {},
   "outputs": [
    {
     "data": {
      "text/plain": [
       "array([[[0., 0.],\n",
       "        [0., 0.],\n",
       "        [0., 0.],\n",
       "        [0., 0.]],\n",
       "\n",
       "       [[0., 0.],\n",
       "        [0., 0.],\n",
       "        [0., 0.],\n",
       "        [0., 0.]],\n",
       "\n",
       "       [[0., 0.],\n",
       "        [0., 0.],\n",
       "        [0., 0.],\n",
       "        [0., 0.]]])"
      ]
     },
     "execution_count": 86,
     "metadata": {},
     "output_type": "execute_result"
    }
   ],
   "source": [
    "np.zeros((3,4,2))"
   ]
  },
  {
   "cell_type": "code",
   "execution_count": 87,
   "id": "0fba9972",
   "metadata": {},
   "outputs": [
    {
     "data": {
      "text/plain": [
       "array([1., 1., 1., 1.])"
      ]
     },
     "execution_count": 87,
     "metadata": {},
     "output_type": "execute_result"
    }
   ],
   "source": [
    "np.ones(4)"
   ]
  },
  {
   "cell_type": "code",
   "execution_count": 89,
   "id": "820cac3b",
   "metadata": {},
   "outputs": [
    {
     "data": {
      "text/plain": [
       "array([[1., 1., 1., 1.],\n",
       "       [1., 1., 1., 1.],\n",
       "       [1., 1., 1., 1.]])"
      ]
     },
     "execution_count": 89,
     "metadata": {},
     "output_type": "execute_result"
    }
   ],
   "source": [
    "np.ones((3,4))"
   ]
  },
  {
   "cell_type": "code",
   "execution_count": 90,
   "id": "198f591b",
   "metadata": {},
   "outputs": [
    {
     "data": {
      "text/plain": [
       "array([[[1., 1.],\n",
       "        [1., 1.],\n",
       "        [1., 1.]],\n",
       "\n",
       "       [[1., 1.],\n",
       "        [1., 1.],\n",
       "        [1., 1.]]])"
      ]
     },
     "execution_count": 90,
     "metadata": {},
     "output_type": "execute_result"
    }
   ],
   "source": [
    "np.ones((2,3,2))"
   ]
  },
  {
   "cell_type": "code",
   "execution_count": 91,
   "id": "8cdb7871",
   "metadata": {},
   "outputs": [
    {
     "data": {
      "text/plain": [
       "array([[[[1., 1.],\n",
       "         [1., 1.],\n",
       "         [1., 1.],\n",
       "         [1., 1.]],\n",
       "\n",
       "        [[1., 1.],\n",
       "         [1., 1.],\n",
       "         [1., 1.],\n",
       "         [1., 1.]],\n",
       "\n",
       "        [[1., 1.],\n",
       "         [1., 1.],\n",
       "         [1., 1.],\n",
       "         [1., 1.]]],\n",
       "\n",
       "\n",
       "       [[[1., 1.],\n",
       "         [1., 1.],\n",
       "         [1., 1.],\n",
       "         [1., 1.]],\n",
       "\n",
       "        [[1., 1.],\n",
       "         [1., 1.],\n",
       "         [1., 1.],\n",
       "         [1., 1.]],\n",
       "\n",
       "        [[1., 1.],\n",
       "         [1., 1.],\n",
       "         [1., 1.],\n",
       "         [1., 1.]]]])"
      ]
     },
     "execution_count": 91,
     "metadata": {},
     "output_type": "execute_result"
    }
   ],
   "source": [
    "np.ones((2,3,4,2))"
   ]
  },
  {
   "cell_type": "code",
   "execution_count": 92,
   "id": "b1d6abcd",
   "metadata": {},
   "outputs": [],
   "source": [
    "on=np.ones((2,3))"
   ]
  },
  {
   "cell_type": "code",
   "execution_count": 93,
   "id": "79b7743f",
   "metadata": {},
   "outputs": [
    {
     "data": {
      "text/plain": [
       "array([[6., 6., 6.],\n",
       "       [6., 6., 6.]])"
      ]
     },
     "execution_count": 93,
     "metadata": {},
     "output_type": "execute_result"
    }
   ],
   "source": [
    "on+5"
   ]
  },
  {
   "cell_type": "code",
   "execution_count": 94,
   "id": "b625ea7e",
   "metadata": {},
   "outputs": [
    {
     "data": {
      "text/plain": [
       "array([[0., 0., 0., 0., 0.],\n",
       "       [0., 0., 0., 0., 0.],\n",
       "       [0., 0., 0., 0., 0.]])"
      ]
     },
     "execution_count": 94,
     "metadata": {},
     "output_type": "execute_result"
    }
   ],
   "source": [
    "np.empty((3,5))"
   ]
  },
  {
   "cell_type": "code",
   "execution_count": 96,
   "id": "f42779ec",
   "metadata": {},
   "outputs": [
    {
     "data": {
      "text/plain": [
       "array([[1., 0., 0., 0.],\n",
       "       [0., 1., 0., 0.],\n",
       "       [0., 0., 1., 0.],\n",
       "       [0., 0., 0., 1.]])"
      ]
     },
     "execution_count": 96,
     "metadata": {},
     "output_type": "execute_result"
    }
   ],
   "source": [
    "np.eye(4)#identity matrix"
   ]
  },
  {
   "cell_type": "code",
   "execution_count": 97,
   "id": "b1baadf5",
   "metadata": {},
   "outputs": [
    {
     "data": {
      "text/plain": [
       "array([3.  , 3.25, 3.5 , 3.75, 4.  ])"
      ]
     },
     "execution_count": 97,
     "metadata": {},
     "output_type": "execute_result"
    }
   ],
   "source": [
    "np.linspace(3,4,5)"
   ]
  },
  {
   "cell_type": "code",
   "execution_count": 99,
   "id": "ae29bfa2",
   "metadata": {},
   "outputs": [
    {
     "data": {
      "text/plain": [
       "array([ 4.        ,  5.0396842 ,  6.34960421,  8.        , 10.0793684 ,\n",
       "       12.69920842, 16.        , 20.1587368 , 25.39841683, 32.        ])"
      ]
     },
     "execution_count": 99,
     "metadata": {},
     "output_type": "execute_result"
    }
   ],
   "source": [
    "np.logspace(2,5,10,base=2)"
   ]
  },
  {
   "cell_type": "code",
   "execution_count": 104,
   "id": "5091bb5e",
   "metadata": {},
   "outputs": [],
   "source": [
    "#imp functions"
   ]
  },
  {
   "cell_type": "code",
   "execution_count": 105,
   "id": "f114277b",
   "metadata": {},
   "outputs": [],
   "source": [
    "arr=np.random.randn(3,4)"
   ]
  },
  {
   "cell_type": "code",
   "execution_count": 106,
   "id": "bbc94cc5",
   "metadata": {},
   "outputs": [],
   "source": [
    "import pandas as pd"
   ]
  },
  {
   "cell_type": "code",
   "execution_count": 107,
   "id": "9dbf7096",
   "metadata": {},
   "outputs": [
    {
     "data": {
      "text/html": [
       "<div>\n",
       "<style scoped>\n",
       "    .dataframe tbody tr th:only-of-type {\n",
       "        vertical-align: middle;\n",
       "    }\n",
       "\n",
       "    .dataframe tbody tr th {\n",
       "        vertical-align: top;\n",
       "    }\n",
       "\n",
       "    .dataframe thead th {\n",
       "        text-align: right;\n",
       "    }\n",
       "</style>\n",
       "<table border=\"1\" class=\"dataframe\">\n",
       "  <thead>\n",
       "    <tr style=\"text-align: right;\">\n",
       "      <th></th>\n",
       "      <th>0</th>\n",
       "      <th>1</th>\n",
       "      <th>2</th>\n",
       "      <th>3</th>\n",
       "    </tr>\n",
       "  </thead>\n",
       "  <tbody>\n",
       "    <tr>\n",
       "      <th>0</th>\n",
       "      <td>0.662122</td>\n",
       "      <td>0.878394</td>\n",
       "      <td>-1.433599</td>\n",
       "      <td>0.506033</td>\n",
       "    </tr>\n",
       "    <tr>\n",
       "      <th>1</th>\n",
       "      <td>1.630898</td>\n",
       "      <td>0.998728</td>\n",
       "      <td>-0.725343</td>\n",
       "      <td>-0.586783</td>\n",
       "    </tr>\n",
       "    <tr>\n",
       "      <th>2</th>\n",
       "      <td>-0.124482</td>\n",
       "      <td>0.128965</td>\n",
       "      <td>1.080870</td>\n",
       "      <td>-0.919537</td>\n",
       "    </tr>\n",
       "  </tbody>\n",
       "</table>\n",
       "</div>"
      ],
      "text/plain": [
       "          0         1         2         3\n",
       "0  0.662122  0.878394 -1.433599  0.506033\n",
       "1  1.630898  0.998728 -0.725343 -0.586783\n",
       "2 -0.124482  0.128965  1.080870 -0.919537"
      ]
     },
     "execution_count": 107,
     "metadata": {},
     "output_type": "execute_result"
    }
   ],
   "source": [
    "pd.DataFrame(arr)"
   ]
  },
  {
   "cell_type": "code",
   "execution_count": 114,
   "id": "a6db736d",
   "metadata": {},
   "outputs": [],
   "source": [
    "arr4=np.random.rand(3,4)"
   ]
  },
  {
   "cell_type": "code",
   "execution_count": 115,
   "id": "1ced1b98",
   "metadata": {},
   "outputs": [
    {
     "data": {
      "text/plain": [
       "array([81, 74, 65, 72, 76, 32, 87, 50, 65, 12, 31, 66, 32, 44, 15, 25, 39,\n",
       "       69, 14, 80, 16, 78, 28, 42, 28, 83, 41, 41, 74, 44, 23,  9, 63, 88,\n",
       "       13, 47, 18, 45, 87, 14,  7, 31,  4])"
      ]
     },
     "execution_count": 115,
     "metadata": {},
     "output_type": "execute_result"
    }
   ],
   "source": [
    "np.random.randint(4,89,43)"
   ]
  },
  {
   "cell_type": "code",
   "execution_count": 116,
   "id": "e90039e0",
   "metadata": {},
   "outputs": [],
   "source": [
    "#we can also convert randoms into dataframe"
   ]
  },
  {
   "cell_type": "code",
   "execution_count": 118,
   "id": "be47882c",
   "metadata": {},
   "outputs": [
    {
     "data": {
      "text/plain": [
       "array([[0.53955695, 0.84253895],\n",
       "       [0.14366486, 0.85194502],\n",
       "       [0.61613009, 0.72413641],\n",
       "       [0.17325253, 0.82756294],\n",
       "       [0.0717317 , 0.41219248],\n",
       "       [0.90822294, 0.4628906 ]])"
      ]
     },
     "execution_count": 118,
     "metadata": {},
     "output_type": "execute_result"
    }
   ],
   "source": [
    "arr4.reshape(6,2)"
   ]
  },
  {
   "cell_type": "code",
   "execution_count": 120,
   "id": "ec59fb26",
   "metadata": {},
   "outputs": [],
   "source": [
    "arr3=arr4.reshape(6,-1345675)"
   ]
  },
  {
   "cell_type": "code",
   "execution_count": 121,
   "id": "c0caa39d",
   "metadata": {},
   "outputs": [
    {
     "data": {
      "text/plain": [
       "array([[0.53955695, 0.84253895],\n",
       "       [0.14366486, 0.85194502],\n",
       "       [0.61613009, 0.72413641],\n",
       "       [0.17325253, 0.82756294],\n",
       "       [0.0717317 , 0.41219248],\n",
       "       [0.90822294, 0.4628906 ]])"
      ]
     },
     "execution_count": 121,
     "metadata": {},
     "output_type": "execute_result"
    }
   ],
   "source": [
    "arr3"
   ]
  },
  {
   "cell_type": "code",
   "execution_count": 122,
   "id": "4b1cc9bc",
   "metadata": {},
   "outputs": [
    {
     "data": {
      "text/plain": [
       "array([0.14366486, 0.85194502])"
      ]
     },
     "execution_count": 122,
     "metadata": {},
     "output_type": "execute_result"
    }
   ],
   "source": [
    "arr3[1]"
   ]
  },
  {
   "cell_type": "code",
   "execution_count": 123,
   "id": "984f4005",
   "metadata": {},
   "outputs": [
    {
     "data": {
      "text/plain": [
       "0.8519450207958638"
      ]
     },
     "execution_count": 123,
     "metadata": {},
     "output_type": "execute_result"
    }
   ],
   "source": [
    "arr3[1][1]"
   ]
  },
  {
   "cell_type": "code",
   "execution_count": 124,
   "id": "0cf48b9a",
   "metadata": {},
   "outputs": [
    {
     "data": {
      "text/plain": [
       "array([0.72413641, 0.82756294, 0.41219248])"
      ]
     },
     "execution_count": 124,
     "metadata": {},
     "output_type": "execute_result"
    }
   ],
   "source": [
    "arr3[2:5,1]"
   ]
  },
  {
   "cell_type": "code",
   "execution_count": 127,
   "id": "137bb8d5",
   "metadata": {},
   "outputs": [],
   "source": [
    "arr5=np.random.randint(1,100,(5,4))"
   ]
  },
  {
   "cell_type": "code",
   "execution_count": 128,
   "id": "2e3629a6",
   "metadata": {},
   "outputs": [
    {
     "data": {
      "text/plain": [
       "array([[48, 42, 80, 63],\n",
       "       [55, 56,  5,  9],\n",
       "       [73, 69,  9, 35],\n",
       "       [72, 47, 35, 67],\n",
       "       [16, 30, 85, 89]])"
      ]
     },
     "execution_count": 128,
     "metadata": {},
     "output_type": "execute_result"
    }
   ],
   "source": [
    "arr5"
   ]
  },
  {
   "cell_type": "code",
   "execution_count": 129,
   "id": "32240db6",
   "metadata": {},
   "outputs": [
    {
     "data": {
      "text/plain": [
       "array([[False, False,  True,  True],\n",
       "       [ True,  True, False, False],\n",
       "       [ True,  True, False, False],\n",
       "       [ True, False, False,  True],\n",
       "       [False, False,  True,  True]])"
      ]
     },
     "execution_count": 129,
     "metadata": {},
     "output_type": "execute_result"
    }
   ],
   "source": [
    "arr5>50"
   ]
  },
  {
   "cell_type": "code",
   "execution_count": 132,
   "id": "77fb7388",
   "metadata": {},
   "outputs": [
    {
     "data": {
      "text/plain": [
       "array([80, 63, 55, 56, 73, 69, 72, 67, 85, 89])"
      ]
     },
     "execution_count": 132,
     "metadata": {},
     "output_type": "execute_result"
    }
   ],
   "source": [
    "arr5[arr5>50]"
   ]
  },
  {
   "cell_type": "code",
   "execution_count": 133,
   "id": "956b02ee",
   "metadata": {},
   "outputs": [
    {
     "data": {
      "text/plain": [
       "array([[48, 42, 80, 63],\n",
       "       [55, 56,  5,  9],\n",
       "       [73, 69,  9, 35],\n",
       "       [72, 47, 35, 67],\n",
       "       [16, 30, 85, 89]])"
      ]
     },
     "execution_count": 133,
     "metadata": {},
     "output_type": "execute_result"
    }
   ],
   "source": [
    "arr5"
   ]
  },
  {
   "cell_type": "code",
   "execution_count": 136,
   "id": "544188b6",
   "metadata": {},
   "outputs": [
    {
     "data": {
      "text/plain": [
       "array([[69, 35],\n",
       "       [47, 67]])"
      ]
     },
     "execution_count": 136,
     "metadata": {},
     "output_type": "execute_result"
    }
   ],
   "source": [
    "arr5[2:4,[1,3]]"
   ]
  },
  {
   "cell_type": "code",
   "execution_count": 138,
   "id": "e83a5f01",
   "metadata": {},
   "outputs": [],
   "source": [
    "arr5[0][0]=600"
   ]
  },
  {
   "cell_type": "code",
   "execution_count": 139,
   "id": "7659628a",
   "metadata": {},
   "outputs": [
    {
     "data": {
      "text/plain": [
       "array([[600,  42,  80,  63],\n",
       "       [ 55,  56,   5,   9],\n",
       "       [ 73,  69,   9,  35],\n",
       "       [ 72,  47,  35,  67],\n",
       "       [ 16,  30,  85,  89]])"
      ]
     },
     "execution_count": 139,
     "metadata": {},
     "output_type": "execute_result"
    }
   ],
   "source": [
    "arr5"
   ]
  },
  {
   "cell_type": "code",
   "execution_count": 141,
   "id": "fb183746",
   "metadata": {},
   "outputs": [],
   "source": [
    "arr6=np.random.randint(1,3,(3,3))\n",
    "arr7=np.random.randint(1,3,(3,3))"
   ]
  },
  {
   "cell_type": "code",
   "execution_count": 142,
   "id": "59a9c155",
   "metadata": {},
   "outputs": [
    {
     "data": {
      "text/plain": [
       "array([[1, 2, 1],\n",
       "       [1, 1, 2],\n",
       "       [2, 1, 2]])"
      ]
     },
     "execution_count": 142,
     "metadata": {},
     "output_type": "execute_result"
    }
   ],
   "source": [
    "arr6"
   ]
  },
  {
   "cell_type": "code",
   "execution_count": 143,
   "id": "23e4ee7a",
   "metadata": {},
   "outputs": [
    {
     "data": {
      "text/plain": [
       "array([[2, 2, 1],\n",
       "       [2, 2, 1],\n",
       "       [1, 2, 1]])"
      ]
     },
     "execution_count": 143,
     "metadata": {},
     "output_type": "execute_result"
    }
   ],
   "source": [
    "arr7"
   ]
  },
  {
   "cell_type": "code",
   "execution_count": 144,
   "id": "9f0582d1",
   "metadata": {},
   "outputs": [
    {
     "data": {
      "text/plain": [
       "array([[3, 4, 2],\n",
       "       [3, 3, 3],\n",
       "       [3, 3, 3]])"
      ]
     },
     "execution_count": 144,
     "metadata": {},
     "output_type": "execute_result"
    }
   ],
   "source": [
    "arr6+arr7"
   ]
  },
  {
   "cell_type": "code",
   "execution_count": 147,
   "id": "9be965b6",
   "metadata": {},
   "outputs": [
    {
     "data": {
      "text/plain": [
       "array([[2, 4, 1],\n",
       "       [2, 2, 2],\n",
       "       [2, 2, 2]])"
      ]
     },
     "execution_count": 147,
     "metadata": {},
     "output_type": "execute_result"
    }
   ],
   "source": [
    "arr6*arr7 #it multiply by index only"
   ]
  },
  {
   "cell_type": "code",
   "execution_count": 148,
   "id": "382a2685",
   "metadata": {},
   "outputs": [
    {
     "data": {
      "text/plain": [
       "array([[ 7,  8,  4],\n",
       "       [ 6,  8,  4],\n",
       "       [ 8, 10,  5]])"
      ]
     },
     "execution_count": 148,
     "metadata": {},
     "output_type": "execute_result"
    }
   ],
   "source": [
    "arr6@arr7  #matrix multiplication"
   ]
  },
  {
   "cell_type": "code",
   "execution_count": 150,
   "id": "c803e533",
   "metadata": {},
   "outputs": [
    {
     "name": "stderr",
     "output_type": "stream",
     "text": [
      "C:\\Users\\Hp\\AppData\\Local\\Temp\\ipykernel_6140\\1351048935.py:1: RuntimeWarning: divide by zero encountered in divide\n",
      "  arr6/0\n"
     ]
    },
    {
     "data": {
      "text/plain": [
       "array([[inf, inf, inf],\n",
       "       [inf, inf, inf],\n",
       "       [inf, inf, inf]])"
      ]
     },
     "execution_count": 150,
     "metadata": {},
     "output_type": "execute_result"
    }
   ],
   "source": [
    "arr6/0"
   ]
  },
  {
   "cell_type": "code",
   "execution_count": 151,
   "id": "f73c3fda",
   "metadata": {},
   "outputs": [
    {
     "data": {
      "text/plain": [
       "array([[101, 102, 101],\n",
       "       [101, 101, 102],\n",
       "       [102, 101, 102]])"
      ]
     },
     "execution_count": 151,
     "metadata": {},
     "output_type": "execute_result"
    }
   ],
   "source": [
    "arr6+100"
   ]
  },
  {
   "cell_type": "code",
   "execution_count": 152,
   "id": "e3b72fe9",
   "metadata": {},
   "outputs": [
    {
     "data": {
      "text/plain": [
       "array([[1, 4, 1],\n",
       "       [1, 1, 4],\n",
       "       [4, 1, 4]])"
      ]
     },
     "execution_count": 152,
     "metadata": {},
     "output_type": "execute_result"
    }
   ],
   "source": [
    "arr6**2"
   ]
  },
  {
   "cell_type": "code",
   "execution_count": 154,
   "id": "5dad550a",
   "metadata": {},
   "outputs": [],
   "source": [
    "#numpy--broadcasting"
   ]
  },
  {
   "cell_type": "code",
   "execution_count": 156,
   "id": "db8f7dec",
   "metadata": {},
   "outputs": [],
   "source": [
    "arr8=np.zeros((4,4))"
   ]
  },
  {
   "cell_type": "code",
   "execution_count": 157,
   "id": "eb080bb5",
   "metadata": {},
   "outputs": [
    {
     "data": {
      "text/plain": [
       "array([[0., 0., 0., 0.],\n",
       "       [0., 0., 0., 0.],\n",
       "       [0., 0., 0., 0.],\n",
       "       [0., 0., 0., 0.]])"
      ]
     },
     "execution_count": 157,
     "metadata": {},
     "output_type": "execute_result"
    }
   ],
   "source": [
    "arr8"
   ]
  },
  {
   "cell_type": "code",
   "execution_count": 158,
   "id": "217be105",
   "metadata": {},
   "outputs": [],
   "source": [
    "row=np.array([1,2,3,4])"
   ]
  },
  {
   "cell_type": "code",
   "execution_count": 159,
   "id": "1643c956",
   "metadata": {},
   "outputs": [
    {
     "data": {
      "text/plain": [
       "array([1, 2, 3, 4])"
      ]
     },
     "execution_count": 159,
     "metadata": {},
     "output_type": "execute_result"
    }
   ],
   "source": [
    "row"
   ]
  },
  {
   "cell_type": "code",
   "execution_count": 160,
   "id": "c7beadb6",
   "metadata": {},
   "outputs": [
    {
     "data": {
      "text/plain": [
       "array([[1., 2., 3., 4.],\n",
       "       [1., 2., 3., 4.],\n",
       "       [1., 2., 3., 4.],\n",
       "       [1., 2., 3., 4.]])"
      ]
     },
     "execution_count": 160,
     "metadata": {},
     "output_type": "execute_result"
    }
   ],
   "source": [
    "arr8+row"
   ]
  },
  {
   "cell_type": "code",
   "execution_count": 161,
   "id": "f518ff7a",
   "metadata": {},
   "outputs": [
    {
     "data": {
      "text/plain": [
       "1"
      ]
     },
     "execution_count": 161,
     "metadata": {},
     "output_type": "execute_result"
    }
   ],
   "source": [
    "row.ndim"
   ]
  },
  {
   "cell_type": "code",
   "execution_count": 162,
   "id": "a29c918a",
   "metadata": {},
   "outputs": [
    {
     "data": {
      "text/plain": [
       "array([1, 2, 3, 4])"
      ]
     },
     "execution_count": 162,
     "metadata": {},
     "output_type": "execute_result"
    }
   ],
   "source": [
    "row.T"
   ]
  },
  {
   "cell_type": "code",
   "execution_count": 163,
   "id": "72b32d17",
   "metadata": {},
   "outputs": [
    {
     "data": {
      "text/plain": [
       "array([[2.71828183, 7.3890561 , 2.71828183],\n",
       "       [2.71828183, 2.71828183, 7.3890561 ],\n",
       "       [7.3890561 , 2.71828183, 7.3890561 ]])"
      ]
     },
     "execution_count": 163,
     "metadata": {},
     "output_type": "execute_result"
    }
   ],
   "source": [
    "np.exp(arr6)"
   ]
  },
  {
   "cell_type": "code",
   "execution_count": 164,
   "id": "0643e350",
   "metadata": {},
   "outputs": [
    {
     "data": {
      "text/plain": [
       "array([[0.     , 0.30103, 0.     ],\n",
       "       [0.     , 0.     , 0.30103],\n",
       "       [0.30103, 0.     , 0.30103]])"
      ]
     },
     "execution_count": 164,
     "metadata": {},
     "output_type": "execute_result"
    }
   ],
   "source": [
    "np.log10(arr6)"
   ]
  },
  {
   "cell_type": "markdown",
   "id": "36a24ba8",
   "metadata": {},
   "source": [
    "# part2"
   ]
  },
  {
   "cell_type": "code",
   "execution_count": 1,
   "id": "d81ebb83",
   "metadata": {},
   "outputs": [],
   "source": [
    "#numpy-array manipulation"
   ]
  },
  {
   "cell_type": "code",
   "execution_count": 2,
   "id": "c6ad5c3b",
   "metadata": {},
   "outputs": [],
   "source": [
    "import numpy as np"
   ]
  },
  {
   "cell_type": "code",
   "execution_count": 3,
   "id": "cc0250ec",
   "metadata": {},
   "outputs": [],
   "source": [
    "arr=np.random.randint(1,10,(3,4))"
   ]
  },
  {
   "cell_type": "code",
   "execution_count": 4,
   "id": "bcb06426",
   "metadata": {},
   "outputs": [
    {
     "data": {
      "text/plain": [
       "array([[7, 5, 3, 7],\n",
       "       [9, 8, 2, 7],\n",
       "       [3, 8, 1, 1]])"
      ]
     },
     "execution_count": 4,
     "metadata": {},
     "output_type": "execute_result"
    }
   ],
   "source": [
    "arr"
   ]
  },
  {
   "cell_type": "code",
   "execution_count": 5,
   "id": "a205b704",
   "metadata": {},
   "outputs": [
    {
     "data": {
      "text/plain": [
       "array([[7, 5],\n",
       "       [3, 7],\n",
       "       [9, 8],\n",
       "       [2, 7],\n",
       "       [3, 8],\n",
       "       [1, 1]])"
      ]
     },
     "execution_count": 5,
     "metadata": {},
     "output_type": "execute_result"
    }
   ],
   "source": [
    "arr.reshape(6,2)"
   ]
  },
  {
   "cell_type": "code",
   "execution_count": 6,
   "id": "a488c3f8",
   "metadata": {},
   "outputs": [
    {
     "data": {
      "text/plain": [
       "array([[7, 5, 3, 7],\n",
       "       [9, 8, 2, 7],\n",
       "       [3, 8, 1, 1]])"
      ]
     },
     "execution_count": 6,
     "metadata": {},
     "output_type": "execute_result"
    }
   ],
   "source": [
    "arr.reshape(3,-76543)"
   ]
  },
  {
   "cell_type": "code",
   "execution_count": 7,
   "id": "bef189e4",
   "metadata": {},
   "outputs": [
    {
     "data": {
      "text/plain": [
       "array([[7, 9, 3],\n",
       "       [5, 8, 8],\n",
       "       [3, 2, 1],\n",
       "       [7, 7, 1]])"
      ]
     },
     "execution_count": 7,
     "metadata": {},
     "output_type": "execute_result"
    }
   ],
   "source": [
    "arr.T"
   ]
  },
  {
   "cell_type": "code",
   "execution_count": 9,
   "id": "fdf81472",
   "metadata": {},
   "outputs": [
    {
     "data": {
      "text/plain": [
       "array([7, 5, 3, 7, 9, 8, 2, 7, 3, 8, 1, 1])"
      ]
     },
     "execution_count": 9,
     "metadata": {},
     "output_type": "execute_result"
    }
   ],
   "source": [
    "arr.flatten()#convert into 1d"
   ]
  },
  {
   "cell_type": "code",
   "execution_count": 11,
   "id": "5ea95e51",
   "metadata": {},
   "outputs": [],
   "source": [
    "arr1=np.array([1,2,3,3,4])"
   ]
  },
  {
   "cell_type": "code",
   "execution_count": 12,
   "id": "1dfea040",
   "metadata": {},
   "outputs": [
    {
     "data": {
      "text/plain": [
       "1"
      ]
     },
     "execution_count": 12,
     "metadata": {},
     "output_type": "execute_result"
    }
   ],
   "source": [
    "arr1.ndim"
   ]
  },
  {
   "cell_type": "code",
   "execution_count": 13,
   "id": "71cf821b",
   "metadata": {},
   "outputs": [
    {
     "data": {
      "text/plain": [
       "array([[1],\n",
       "       [2],\n",
       "       [3],\n",
       "       [3],\n",
       "       [4]])"
      ]
     },
     "execution_count": 13,
     "metadata": {},
     "output_type": "execute_result"
    }
   ],
   "source": [
    "np.expand_dims(arr1,axis=1)"
   ]
  },
  {
   "cell_type": "code",
   "execution_count": 14,
   "id": "c60e8d1a",
   "metadata": {},
   "outputs": [
    {
     "data": {
      "text/plain": [
       "array([[7, 5, 3, 7],\n",
       "       [9, 8, 2, 7],\n",
       "       [3, 8, 1, 1]])"
      ]
     },
     "execution_count": 14,
     "metadata": {},
     "output_type": "execute_result"
    }
   ],
   "source": [
    "arr"
   ]
  },
  {
   "cell_type": "code",
   "execution_count": 15,
   "id": "4a11e175",
   "metadata": {},
   "outputs": [
    {
     "data": {
      "text/plain": [
       "array([[7, 5, 3, 7],\n",
       "       [9, 8, 2, 7],\n",
       "       [3, 8, 1, 1]])"
      ]
     },
     "execution_count": 15,
     "metadata": {},
     "output_type": "execute_result"
    }
   ],
   "source": [
    "np.squeeze(arr)"
   ]
  },
  {
   "cell_type": "code",
   "execution_count": 16,
   "id": "9e0b283b",
   "metadata": {},
   "outputs": [],
   "source": [
    "data=np.array([[1],[2],[3]])"
   ]
  },
  {
   "cell_type": "code",
   "execution_count": 17,
   "id": "07456fa0",
   "metadata": {},
   "outputs": [
    {
     "data": {
      "text/plain": [
       "array([[1],\n",
       "       [2],\n",
       "       [3]])"
      ]
     },
     "execution_count": 17,
     "metadata": {},
     "output_type": "execute_result"
    }
   ],
   "source": [
    "data"
   ]
  },
  {
   "cell_type": "code",
   "execution_count": 18,
   "id": "4d16b13e",
   "metadata": {},
   "outputs": [
    {
     "data": {
      "text/plain": [
       "array([1, 2, 3])"
      ]
     },
     "execution_count": 18,
     "metadata": {},
     "output_type": "execute_result"
    }
   ],
   "source": [
    "np.squeeze(data)"
   ]
  },
  {
   "cell_type": "code",
   "execution_count": 19,
   "id": "d3bf0ecc",
   "metadata": {},
   "outputs": [
    {
     "data": {
      "text/plain": [
       "array([1, 2, 3, 3, 4])"
      ]
     },
     "execution_count": 19,
     "metadata": {},
     "output_type": "execute_result"
    }
   ],
   "source": [
    "arr1"
   ]
  },
  {
   "cell_type": "code",
   "execution_count": 20,
   "id": "199b7045",
   "metadata": {},
   "outputs": [
    {
     "data": {
      "text/plain": [
       "array([1, 1, 1, 2, 2, 2, 3, 3, 3, 3, 3, 3, 4, 4, 4])"
      ]
     },
     "execution_count": 20,
     "metadata": {},
     "output_type": "execute_result"
    }
   ],
   "source": [
    "np.repeat(arr1,3)"
   ]
  },
  {
   "cell_type": "code",
   "execution_count": 22,
   "id": "4770c479",
   "metadata": {},
   "outputs": [
    {
     "data": {
      "text/plain": [
       "array([3, 4, 1, 2, 3])"
      ]
     },
     "execution_count": 22,
     "metadata": {},
     "output_type": "execute_result"
    }
   ],
   "source": [
    "np.roll(arr1, 2)"
   ]
  },
  {
   "cell_type": "code",
   "execution_count": 23,
   "id": "586402a6",
   "metadata": {},
   "outputs": [
    {
     "data": {
      "text/plain": [
       "array([[1, 0, 0, 0, 0],\n",
       "       [0, 2, 0, 0, 0],\n",
       "       [0, 0, 3, 0, 0],\n",
       "       [0, 0, 0, 3, 0],\n",
       "       [0, 0, 0, 0, 4]])"
      ]
     },
     "execution_count": 23,
     "metadata": {},
     "output_type": "execute_result"
    }
   ],
   "source": [
    "np.diag(arr1)"
   ]
  },
  {
   "cell_type": "code",
   "execution_count": 26,
   "id": "188ac52f",
   "metadata": {},
   "outputs": [],
   "source": [
    "#numpy-binary operation include simple add etc"
   ]
  },
  {
   "cell_type": "code",
   "execution_count": 28,
   "id": "192bbf59",
   "metadata": {},
   "outputs": [],
   "source": [
    "#sort,search and counting functions"
   ]
  },
  {
   "cell_type": "code",
   "execution_count": 30,
   "id": "c32bd385",
   "metadata": {},
   "outputs": [],
   "source": [
    "arr4=np.array([4,3,2,6,5,7,89,55,7,3,5,0])"
   ]
  },
  {
   "cell_type": "code",
   "execution_count": 31,
   "id": "aa700d09",
   "metadata": {},
   "outputs": [
    {
     "data": {
      "text/plain": [
       "array([ 4,  3,  2,  6,  5,  7, 89, 55,  7,  3,  5,  0])"
      ]
     },
     "execution_count": 31,
     "metadata": {},
     "output_type": "execute_result"
    }
   ],
   "source": [
    "arr4"
   ]
  },
  {
   "cell_type": "code",
   "execution_count": 33,
   "id": "5425a326",
   "metadata": {},
   "outputs": [
    {
     "data": {
      "text/plain": [
       "array([ 0,  2,  3,  3,  4,  5,  5,  6,  7,  7, 55, 89])"
      ]
     },
     "execution_count": 33,
     "metadata": {},
     "output_type": "execute_result"
    }
   ],
   "source": [
    "np.sort(arr4)"
   ]
  },
  {
   "cell_type": "code",
   "execution_count": 34,
   "id": "d3f7ec06",
   "metadata": {},
   "outputs": [
    {
     "data": {
      "text/plain": [
       "6"
      ]
     },
     "execution_count": 34,
     "metadata": {},
     "output_type": "execute_result"
    }
   ],
   "source": [
    "np.searchsorted(arr4,89)"
   ]
  },
  {
   "cell_type": "code",
   "execution_count": 35,
   "id": "15887be8",
   "metadata": {},
   "outputs": [],
   "source": [
    "arr5=np.array([0,4,10,50,6,34,5,6])"
   ]
  },
  {
   "cell_type": "code",
   "execution_count": 36,
   "id": "a3eef7a3",
   "metadata": {},
   "outputs": [
    {
     "data": {
      "text/plain": [
       "7"
      ]
     },
     "execution_count": 36,
     "metadata": {},
     "output_type": "execute_result"
    }
   ],
   "source": [
    "np.count_nonzero(arr5)"
   ]
  },
  {
   "cell_type": "code",
   "execution_count": 37,
   "id": "80139b6c",
   "metadata": {},
   "outputs": [
    {
     "data": {
      "text/plain": [
       "array([ 4,  3,  2,  6,  5,  7, 89, 55,  7,  3,  5,  0])"
      ]
     },
     "execution_count": 37,
     "metadata": {},
     "output_type": "execute_result"
    }
   ],
   "source": [
    "arr4"
   ]
  },
  {
   "cell_type": "code",
   "execution_count": 38,
   "id": "9f5d70ae",
   "metadata": {},
   "outputs": [
    {
     "data": {
      "text/plain": [
       "(array([5, 6, 7, 8], dtype=int64),)"
      ]
     },
     "execution_count": 38,
     "metadata": {},
     "output_type": "execute_result"
    }
   ],
   "source": [
    "np.where(arr4>6)"
   ]
  },
  {
   "cell_type": "code",
   "execution_count": 39,
   "id": "24ee8ef4",
   "metadata": {},
   "outputs": [
    {
     "data": {
      "text/plain": [
       "array([10, 50,  6, 34,  6])"
      ]
     },
     "execution_count": 39,
     "metadata": {},
     "output_type": "execute_result"
    }
   ],
   "source": [
    "np.extract(arr5>5,arr5)"
   ]
  },
  {
   "cell_type": "code",
   "execution_count": 40,
   "id": "f76b5323",
   "metadata": {},
   "outputs": [],
   "source": [
    "#copy and views"
   ]
  },
  {
   "cell_type": "code",
   "execution_count": 45,
   "id": "8eb52103",
   "metadata": {},
   "outputs": [],
   "source": [
    "arr6=([4,5,6,7,8,9,0,2,3,4,5,55])"
   ]
  },
  {
   "cell_type": "code",
   "execution_count": 46,
   "id": "6d52f8a8",
   "metadata": {},
   "outputs": [
    {
     "data": {
      "text/plain": [
       "[4, 5, 6, 7, 8, 9, 0, 2, 3, 4, 5, 55]"
      ]
     },
     "execution_count": 46,
     "metadata": {},
     "output_type": "execute_result"
    }
   ],
   "source": [
    "arr6"
   ]
  },
  {
   "cell_type": "code",
   "execution_count": 47,
   "id": "ae8f9151",
   "metadata": {},
   "outputs": [],
   "source": [
    "a=np.copy(arr6)"
   ]
  },
  {
   "cell_type": "code",
   "execution_count": 51,
   "id": "e453d4ca",
   "metadata": {},
   "outputs": [
    {
     "ename": "AttributeError",
     "evalue": "'list' object has no attribute 'view'",
     "output_type": "error",
     "traceback": [
      "\u001b[1;31m---------------------------------------------------------------------------\u001b[0m",
      "\u001b[1;31mAttributeError\u001b[0m                            Traceback (most recent call last)",
      "Cell \u001b[1;32mIn[51], line 1\u001b[0m\n\u001b[1;32m----> 1\u001b[0m b \u001b[38;5;241m=\u001b[39m arr6\u001b[38;5;241m.\u001b[39mview()\n",
      "\u001b[1;31mAttributeError\u001b[0m: 'list' object has no attribute 'view'"
     ]
    }
   ],
   "source": [
    "b = arr6.view()"
   ]
  },
  {
   "cell_type": "code",
   "execution_count": 52,
   "id": "8e49d5a9",
   "metadata": {},
   "outputs": [],
   "source": [
    "#matrix library"
   ]
  },
  {
   "cell_type": "code",
   "execution_count": 53,
   "id": "6dffa778",
   "metadata": {},
   "outputs": [],
   "source": [
    "import numpy.matlib as nm"
   ]
  },
  {
   "cell_type": "code",
   "execution_count": 54,
   "id": "f4e22e2f",
   "metadata": {},
   "outputs": [
    {
     "data": {
      "text/plain": [
       "matrix([[0., 0., 0., 0., 0.]])"
      ]
     },
     "execution_count": 54,
     "metadata": {},
     "output_type": "execute_result"
    }
   ],
   "source": [
    "nm.zeros(5)"
   ]
  },
  {
   "cell_type": "code",
   "execution_count": 55,
   "id": "d6042e45",
   "metadata": {},
   "outputs": [
    {
     "data": {
      "text/plain": [
       "matrix([[1., 1., 1., 1.],\n",
       "        [1., 1., 1., 1.],\n",
       "        [1., 1., 1., 1.]])"
      ]
     },
     "execution_count": 55,
     "metadata": {},
     "output_type": "execute_result"
    }
   ],
   "source": [
    "nm.ones((3,4))"
   ]
  },
  {
   "cell_type": "code",
   "execution_count": 56,
   "id": "b4b4ad87",
   "metadata": {},
   "outputs": [
    {
     "data": {
      "text/plain": [
       "matrix([[1., 0., 0., 0., 0., 0., 0.],\n",
       "        [0., 1., 0., 0., 0., 0., 0.],\n",
       "        [0., 0., 1., 0., 0., 0., 0.],\n",
       "        [0., 0., 0., 1., 0., 0., 0.],\n",
       "        [0., 0., 0., 0., 1., 0., 0.],\n",
       "        [0., 0., 0., 0., 0., 1., 0.],\n",
       "        [0., 0., 0., 0., 0., 0., 1.]])"
      ]
     },
     "execution_count": 56,
     "metadata": {},
     "output_type": "execute_result"
    }
   ],
   "source": [
    "nm.eye(7)"
   ]
  },
  {
   "cell_type": "code",
   "execution_count": 57,
   "id": "5a8c9caf",
   "metadata": {},
   "outputs": [],
   "source": [
    "#linear algebra"
   ]
  },
  {
   "cell_type": "code",
   "execution_count": 58,
   "id": "fb4d2bf8",
   "metadata": {},
   "outputs": [],
   "source": [
    "arr1=np.random.randint([[2,3],[4,5]])"
   ]
  },
  {
   "cell_type": "code",
   "execution_count": 59,
   "id": "32b85f72",
   "metadata": {},
   "outputs": [],
   "source": [
    "arr2=np.random.randint([[5,3],[2,5]])"
   ]
  },
  {
   "cell_type": "code",
   "execution_count": 60,
   "id": "4cff22f0",
   "metadata": {},
   "outputs": [
    {
     "data": {
      "text/plain": [
       "array([[0, 0],\n",
       "       [1, 6]])"
      ]
     },
     "execution_count": 60,
     "metadata": {},
     "output_type": "execute_result"
    }
   ],
   "source": [
    "np.dot(arr1,arr2)"
   ]
  },
  {
   "cell_type": "code",
   "execution_count": 61,
   "id": "815c2396",
   "metadata": {},
   "outputs": [
    {
     "data": {
      "text/plain": [
       "array([[0, 0],\n",
       "       [1, 6]])"
      ]
     },
     "execution_count": 61,
     "metadata": {},
     "output_type": "execute_result"
    }
   ],
   "source": [
    "arr1@arr2"
   ]
  },
  {
   "cell_type": "code",
   "execution_count": null,
   "id": "335859e6",
   "metadata": {},
   "outputs": [],
   "source": []
  }
 ],
 "metadata": {
  "kernelspec": {
   "display_name": "Python 3 (ipykernel)",
   "language": "python",
   "name": "python3"
  },
  "language_info": {
   "codemirror_mode": {
    "name": "ipython",
    "version": 3
   },
   "file_extension": ".py",
   "mimetype": "text/x-python",
   "name": "python",
   "nbconvert_exporter": "python",
   "pygments_lexer": "ipython3",
   "version": "3.11.3"
  }
 },
 "nbformat": 4,
 "nbformat_minor": 5
}
